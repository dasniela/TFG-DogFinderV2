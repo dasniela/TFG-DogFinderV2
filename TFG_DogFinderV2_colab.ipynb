{
 "cells": [
  {
   "cell_type": "markdown",
   "metadata": {},
   "source": [
    "# TFG-DogFinderV2: Ejecución en Google Colab\n",
    "Este notebook te permite ejecutar la base del proyecto directamente en Colab."
   ]
  },
  {
   "cell_type": "code",
   "metadata": {},
   "source": [
    "# 1. Clonar el repositorio\n",
    "!git clone https://github.com/dasniela/TFG-DogFinderV2.git\n",
    "!ls TFG-DogFinderV2"
   ]
  },
  {
   "cell_type": "code",
   "metadata": {},
   "source": [
    "# 2. Instalar dependencias\n",
    "%cd TFG-DogFinderV2\n",
    "!pip install -r requirements.txt"
   ]
  },
  {
   "cell_type": "markdown",
   "metadata": {},
   "source": [
    "## 3. Cargar datos\n",
    "Si necesitas usar archivos grandes (datasets, modelos), súbelos a tu Google Drive y monta Drive así:"
   ]
  },
  {
   "cell_type": "code",
   "metadata": {},
   "source": [
    "from google.colab import drive\n",
    "drive.mount('/content/drive')\n",
    "# Ahora puedes copiar o enlazar archivos desde tu Drive"
   ]
  },
  {
   "cell_type": "markdown",
   "metadata": {},
   "source": [
    "## 4. Ejemplo de uso básico\n",
    "Aquí puedes importar y ejecutar tu código. Por ejemplo, para ejecutar el script principal o probar una función:"
   ]
  },
  {
   "cell_type": "code",
   "metadata": {},
   "source": [
    "# Ejemplo: ejecutar un script\n",
    "!python add_dogs_to_db.py --help  # o el script que desees probar"
   ]
  }
 ],
 "metadata": {
  "kernelspec": {
   "display_name": "Python 3",
   "language": "python",
   "name": "python3"
  },
  "language_info": {
   "name": "python",
   "version": "3.10"
  }
 },
 "nbformat": 4,
 "nbformat_minor": 2
}
